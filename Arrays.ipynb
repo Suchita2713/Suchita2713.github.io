{
  "nbformat": 4,
  "nbformat_minor": 0,
  "metadata": {
    "colab": {
      "name": "Arrays.ipynb",
      "provenance": [],
      "collapsed_sections": [],
      "authorship_tag": "ABX9TyPKR57wwWSyVxy3dX6yOsVH",
      "include_colab_link": true
    },
    "kernelspec": {
      "name": "python3",
      "display_name": "Python 3"
    },
    "language_info": {
      "name": "python"
    }
  },
  "cells": [
    {
      "cell_type": "markdown",
      "metadata": {
        "id": "view-in-github",
        "colab_type": "text"
      },
      "source": [
        "<a href=\"https://colab.research.google.com/github/Suchita2713/Suchita2713.github.io/blob/master/Arrays.ipynb\" target=\"_parent\"><img src=\"https://colab.research.google.com/assets/colab-badge.svg\" alt=\"Open In Colab\"/></a>"
      ]
    },
    {
      "cell_type": "code",
      "metadata": {
        "colab": {
          "base_uri": "https://localhost:8080/"
        },
        "id": "ECfCbnJFRJ4U",
        "outputId": "c18d77c2-c5c9-4add-962b-69f5fc4d9b32"
      },
      "source": [
        "# Missing no. in a array\n",
        "\n",
        "def func(n,arr):\n",
        "  return n*(n+1)//2-sum(arr)\n",
        "\n",
        "a=[1,2,3,5]\n",
        "n=len(a)+1\n",
        "print(func(n,a))\n",
        "  "
      ],
      "execution_count": 8,
      "outputs": [
        {
          "output_type": "stream",
          "text": [
            "4\n"
          ],
          "name": "stdout"
        }
      ]
    },
    {
      "cell_type": "code",
      "metadata": {
        "id": "pMKk37rrUT1O"
      },
      "source": [
        "# Trailing zeros in factorial"
      ],
      "execution_count": null,
      "outputs": []
    }
  ]
}